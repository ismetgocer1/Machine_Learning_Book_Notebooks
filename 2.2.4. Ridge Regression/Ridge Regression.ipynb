{
 "cells": [
  {
   "cell_type": "markdown",
   "id": "8203ba0b",
   "metadata": {},
   "source": [
    "# Ridge Regression"
   ]
  },
  {
   "cell_type": "code",
   "execution_count": 1,
   "id": "291ab5ce",
   "metadata": {},
   "outputs": [
    {
     "name": "stdout",
     "output_type": "stream",
     "text": [
      "Mean Squared Error (MSE): 2556.476721362374\n",
      "R-squared (R²): 0.9962477351233696\n",
      "\n",
      "Model Coefficients (with Ridge regularization):\n",
      "AD: 3.0142589228446024\n",
      "E: 5.080362356612154\n",
      "T: 2.4288400039385145\n",
      "Intercept (a): 489.0370320270956\n",
      "\n",
      "Model saved as final_ridge_regression_model.joblib\n"
     ]
    }
   ],
   "source": [
    "import pandas as pd\n",
    "from sklearn.linear_model import Ridge\n",
    "from sklearn.metrics import mean_squared_error, r2_score\n",
    "import joblib\n",
    "\n",
    "# Load the dataset\n",
    "data = pd.read_excel(\"data2.xlsx\")\n",
    "\n",
    "# Define the independent (X) and dependent (Y) variables\n",
    "X = data[['AD', 'E', 'T']]  # Independent variables: Advertising spend (AD), E, T\n",
    "Y = data['R']               # Dependent variable: Sales revenue\n",
    "\n",
    "# Initialize the Ridge Regression model with alpha (regularization strength)\n",
    "alpha_value = 1.0  # You can adjust this value\n",
    "model = Ridge(alpha=alpha_value)\n",
    "\n",
    "# Train the model on the entire dataset (no train-test split)\n",
    "model.fit(X, Y)\n",
    "\n",
    "# Make predictions on the same dataset (since we are not splitting)\n",
    "Y_pred = model.predict(X)\n",
    "\n",
    "# Evaluate the model\n",
    "mse = mean_squared_error(Y, Y_pred)\n",
    "r2 = r2_score(Y, Y_pred)\n",
    "\n",
    "# Report evaluation metrics\n",
    "print(\"Mean Squared Error (MSE):\", mse)\n",
    "print(\"R-squared (R²):\", r2)\n",
    "\n",
    "# Report model coefficients and intercept\n",
    "print(\"\\nModel Coefficients (with Ridge regularization):\")\n",
    "for i, col in enumerate(X.columns):\n",
    "    print(f\"{col}: {model.coef_[i]}\")\n",
    "\n",
    "print(\"Intercept (a):\", model.intercept_)\n",
    "\n",
    "# Save the Ridge model to a file\n",
    "model_filename = 'final_ridge_regression_model.joblib'\n",
    "joblib.dump(model, model_filename)\n",
    "\n",
    "print(f\"\\nModel saved as {model_filename}\")\n"
   ]
  },
  {
   "cell_type": "markdown",
   "id": "e5338dc7",
   "metadata": {},
   "source": [
    "* In this analysis --> Ridge(alpha=1.0). \n",
    "\n",
    "* The regularization parameter alpha can be adjusted to control the strength of regularization (higher values of alpha apply stronger regularization).\n",
    "\n",
    "* The alpha parameter controls how much regularization is applied:\n",
    "\n",
    "\n",
    "* α=0: Ridge regression behaves like standard linear regression (no regularization).\n",
    "\n",
    "* Higher α values increase the regularization effect, shrinking the coefficients more."
   ]
  },
  {
   "cell_type": "code",
   "execution_count": null,
   "id": "8c9fbade",
   "metadata": {},
   "outputs": [],
   "source": []
  }
 ],
 "metadata": {
  "kernelspec": {
   "display_name": "Python 3 (ipykernel)",
   "language": "python",
   "name": "python3"
  },
  "language_info": {
   "codemirror_mode": {
    "name": "ipython",
    "version": 3
   },
   "file_extension": ".py",
   "mimetype": "text/x-python",
   "name": "python",
   "nbconvert_exporter": "python",
   "pygments_lexer": "ipython3",
   "version": "3.10.9"
  },
  "toc": {
   "base_numbering": 1,
   "nav_menu": {},
   "number_sections": true,
   "sideBar": true,
   "skip_h1_title": false,
   "title_cell": "Table of Contents",
   "title_sidebar": "Contents",
   "toc_cell": false,
   "toc_position": {},
   "toc_section_display": true,
   "toc_window_display": false
  }
 },
 "nbformat": 4,
 "nbformat_minor": 5
}
