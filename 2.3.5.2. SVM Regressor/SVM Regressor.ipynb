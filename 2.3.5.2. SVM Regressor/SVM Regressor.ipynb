{
 "cells": [
  {
   "cell_type": "markdown",
   "id": "ad358e58",
   "metadata": {},
   "source": [
    "# SVM Regressor"
   ]
  },
  {
   "cell_type": "code",
   "execution_count": 1,
   "id": "837512f2",
   "metadata": {},
   "outputs": [
    {
     "name": "stdout",
     "output_type": "stream",
     "text": [
      "Mean Squared Error (MSE): 512221.1911626942\n",
      "R-squared (R²): 0.24818811428828436\n",
      "\n",
      "SVR model used with RBF kernel, C=1.0, and epsilon=0.1.\n",
      "\n",
      "Model saved as final_svr_regression_model.joblib\n"
     ]
    }
   ],
   "source": [
    "import pandas as pd\n",
    "from sklearn.svm import SVR\n",
    "from sklearn.metrics import mean_squared_error, r2_score\n",
    "import joblib\n",
    "\n",
    "# Load the dataset\n",
    "data = pd.read_excel(\"sample_data.xlsx\")\n",
    "\n",
    "# Define the independent (X) and dependent (Y) variables\n",
    "X = data[['AD', 'E', 'T']]  # Independent variables: Advertising spend (AD), E, T\n",
    "Y = data['R']               # Dependent variable: Sales revenue\n",
    "\n",
    "# Initialize the SVR model (you can adjust the hyperparameters)\n",
    "svr_model = SVR(kernel='rbf', C=1.0, epsilon=0.1)  # Using 'rbf' kernel as default, with C=1.0 and epsilon=0.1\n",
    "\n",
    "# Train the model on the entire dataset (no train-test split)\n",
    "svr_model.fit(X, Y)\n",
    "\n",
    "# Make predictions on the same dataset (since we are not splitting)\n",
    "Y_pred = svr_model.predict(X)\n",
    "\n",
    "# Evaluate the model\n",
    "mse = mean_squared_error(Y, Y_pred)\n",
    "r2 = r2_score(Y, Y_pred)\n",
    "\n",
    "# Report evaluation metrics\n",
    "print(\"Mean Squared Error (MSE):\", mse)\n",
    "print(\"R-squared (R²):\", r2)\n",
    "\n",
    "# Since SVR doesn't have coefficients like ElasticNet, we only print evaluation metrics\n",
    "print(\"\\nSVR model used with RBF kernel, C=1.0, and epsilon=0.1.\")\n",
    "\n",
    "# Save the SVR model to a file\n",
    "model_filename = 'final_svr_regression_model.joblib'\n",
    "joblib.dump(svr_model, model_filename)\n",
    "\n",
    "print(f\"\\nModel saved as {model_filename}\")"
   ]
  },
  {
   "cell_type": "code",
   "execution_count": null,
   "id": "7e24b376",
   "metadata": {},
   "outputs": [],
   "source": []
  }
 ],
 "metadata": {
  "kernelspec": {
   "display_name": "Python 3 (ipykernel)",
   "language": "python",
   "name": "python3"
  },
  "language_info": {
   "codemirror_mode": {
    "name": "ipython",
    "version": 3
   },
   "file_extension": ".py",
   "mimetype": "text/x-python",
   "name": "python",
   "nbconvert_exporter": "python",
   "pygments_lexer": "ipython3",
   "version": "3.10.9"
  },
  "toc": {
   "base_numbering": 1,
   "nav_menu": {},
   "number_sections": true,
   "sideBar": true,
   "skip_h1_title": false,
   "title_cell": "Table of Contents",
   "title_sidebar": "Contents",
   "toc_cell": false,
   "toc_position": {},
   "toc_section_display": true,
   "toc_window_display": false
  }
 },
 "nbformat": 4,
 "nbformat_minor": 5
}
