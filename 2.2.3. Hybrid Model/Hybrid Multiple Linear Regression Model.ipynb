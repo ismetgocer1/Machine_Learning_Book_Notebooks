{
 "cells": [
  {
   "cell_type": "markdown",
   "id": "67e7ab52",
   "metadata": {},
   "source": [
    "# Hybrid Multiple Linear Regression Model"
   ]
  },
  {
   "cell_type": "code",
   "execution_count": 2,
   "id": "1962dfc5",
   "metadata": {},
   "outputs": [
    {
     "name": "stdout",
     "output_type": "stream",
     "text": [
      "Mean Squared Error (MSE): 1.658626168344379e-20\n",
      "R-squared (R²): 1.0\n",
      "\n",
      "Model Coefficients:\n",
      "AD: 1000.0000000000003\n",
      "AD2: -1.0000000000000004\n",
      "E: 2.616798896237023e-14\n",
      "T: -6.361921006974356e-13\n",
      "Intercept (a): 8.731149137020111e-11\n",
      "\n",
      "Model saved as final_regression_model.joblib\n"
     ]
    }
   ],
   "source": [
    "import pandas as pd\n",
    "from sklearn.linear_model import LinearRegression\n",
    "from sklearn.metrics import mean_squared_error, r2_score\n",
    "import joblib\n",
    "\n",
    "# Load the dataset\n",
    "data = pd.read_excel(\"data4.xlsx\")\n",
    "\n",
    "# Define the independent (X) and dependent (Y) variables\n",
    "X = data[['AD', 'AD2', 'E', 'T']]  # Independent variables: Advertising spend (AD), E, T\n",
    "Y = data['R']               # Dependent variable: Sales revenue\n",
    "\n",
    "# Initialize the Linear Regression model\n",
    "model = LinearRegression()\n",
    "\n",
    "# Train the model on the entire dataset (no train-test split)\n",
    "model.fit(X, Y)\n",
    "\n",
    "# Make predictions on the same dataset (since we are not splitting)\n",
    "Y_pred = model.predict(X)\n",
    "\n",
    "# Evaluate the model\n",
    "mse = mean_squared_error(Y, Y_pred)\n",
    "r2 = r2_score(Y, Y_pred)\n",
    "\n",
    "# Report evaluation metrics\n",
    "print(\"Mean Squared Error (MSE):\", mse)\n",
    "print(\"R-squared (R²):\", r2)\n",
    "\n",
    "# Report model coefficients and intercept\n",
    "print(\"\\nModel Coefficients:\")\n",
    "for i, col in enumerate(X.columns):\n",
    "    print(f\"{col}: {model.coef_[i]}\")\n",
    "\n",
    "print(\"Intercept (a):\", model.intercept_)\n",
    "\n",
    "# Save the model to a file\n",
    "model_filename = 'final_regression_model.joblib'\n",
    "joblib.dump(model, model_filename)\n",
    "\n",
    "print(f\"\\nModel saved as {model_filename}\")\n"
   ]
  },
  {
   "cell_type": "code",
   "execution_count": null,
   "id": "c5938046",
   "metadata": {},
   "outputs": [],
   "source": []
  }
 ],
 "metadata": {
  "kernelspec": {
   "display_name": "Python 3 (ipykernel)",
   "language": "python",
   "name": "python3"
  },
  "language_info": {
   "codemirror_mode": {
    "name": "ipython",
    "version": 3
   },
   "file_extension": ".py",
   "mimetype": "text/x-python",
   "name": "python",
   "nbconvert_exporter": "python",
   "pygments_lexer": "ipython3",
   "version": "3.10.9"
  },
  "toc": {
   "base_numbering": 1,
   "nav_menu": {},
   "number_sections": true,
   "sideBar": true,
   "skip_h1_title": false,
   "title_cell": "Table of Contents",
   "title_sidebar": "Contents",
   "toc_cell": false,
   "toc_position": {},
   "toc_section_display": true,
   "toc_window_display": false
  }
 },
 "nbformat": 4,
 "nbformat_minor": 5
}
