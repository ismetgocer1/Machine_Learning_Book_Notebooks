{
 "cells": [
  {
   "cell_type": "markdown",
   "id": "901e2d26",
   "metadata": {},
   "source": [
    "# Elastic Net Regression"
   ]
  },
  {
   "cell_type": "code",
   "execution_count": 1,
   "id": "6f7ef6bd",
   "metadata": {},
   "outputs": [
    {
     "name": "stdout",
     "output_type": "stream",
     "text": [
      "Mean Squared Error (MSE): 2556.781696554654\n",
      "R-squared (R²): 0.9962472874964882\n",
      "\n",
      "Model Coefficients (with Elastic Net regularization):\n",
      "AD: 3.014338373741126\n",
      "E: 5.075922264076996\n",
      "T: 2.2499256997381902\n",
      "Intercept (a): 490.13659644530094\n",
      "\n",
      "Model saved as final_elastic_net_regression_model.joblib\n"
     ]
    }
   ],
   "source": [
    "import pandas as pd\n",
    "from sklearn.linear_model import ElasticNet\n",
    "from sklearn.metrics import mean_squared_error, r2_score\n",
    "import joblib\n",
    "\n",
    "# Load the dataset\n",
    "data = pd.read_excel(\"data2.xlsx\")\n",
    "\n",
    "# Define the independent (X) and dependent (Y) variables\n",
    "X = data[['AD', 'E', 'T']]  # Independent variables: Advertising spend (AD), E, T\n",
    "Y = data['R']               # Dependent variable: Sales revenue\n",
    "\n",
    "# Initialize the Elastic Net model with alpha (regularization strength) and l1_ratio\n",
    "alpha_value = 1.0  # You can adjust this value\n",
    "l1_ratio_value = 0.5  # Mix of Lasso (L1) and Ridge (L2); 0.5 is a balance between both\n",
    "model = ElasticNet(alpha=alpha_value, l1_ratio=l1_ratio_value)\n",
    "\n",
    "# Train the model on the entire dataset (no train-test split)\n",
    "model.fit(X, Y)\n",
    "\n",
    "# Make predictions on the same dataset (since we are not splitting)\n",
    "Y_pred = model.predict(X)\n",
    "\n",
    "# Evaluate the model\n",
    "mse = mean_squared_error(Y, Y_pred)\n",
    "r2 = r2_score(Y, Y_pred)\n",
    "\n",
    "# Report evaluation metrics\n",
    "print(\"Mean Squared Error (MSE):\", mse)\n",
    "print(\"R-squared (R²):\", r2)\n",
    "\n",
    "# Report model coefficients and intercept\n",
    "print(\"\\nModel Coefficients (with Elastic Net regularization):\")\n",
    "for i, col in enumerate(X.columns):\n",
    "    print(f\"{col}: {model.coef_[i]}\")\n",
    "\n",
    "print(\"Intercept (a):\", model.intercept_)\n",
    "\n",
    "# Save the Elastic Net model to a file\n",
    "model_filename = 'final_elastic_net_regression_model.joblib'\n",
    "joblib.dump(model, model_filename)\n",
    "\n",
    "print(f\"\\nModel saved as {model_filename}\")"
   ]
  },
  {
   "cell_type": "code",
   "execution_count": null,
   "id": "70d8079d",
   "metadata": {},
   "outputs": [],
   "source": []
  },
  {
   "cell_type": "code",
   "execution_count": null,
   "id": "ad4a19ae",
   "metadata": {},
   "outputs": [],
   "source": []
  }
 ],
 "metadata": {
  "kernelspec": {
   "display_name": "Python 3 (ipykernel)",
   "language": "python",
   "name": "python3"
  },
  "language_info": {
   "codemirror_mode": {
    "name": "ipython",
    "version": 3
   },
   "file_extension": ".py",
   "mimetype": "text/x-python",
   "name": "python",
   "nbconvert_exporter": "python",
   "pygments_lexer": "ipython3",
   "version": "3.10.9"
  },
  "toc": {
   "base_numbering": 1,
   "nav_menu": {},
   "number_sections": true,
   "sideBar": true,
   "skip_h1_title": false,
   "title_cell": "Table of Contents",
   "title_sidebar": "Contents",
   "toc_cell": false,
   "toc_position": {},
   "toc_section_display": true,
   "toc_window_display": false
  }
 },
 "nbformat": 4,
 "nbformat_minor": 5
}
