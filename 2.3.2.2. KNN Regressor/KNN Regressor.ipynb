{
 "cells": [
  {
   "cell_type": "markdown",
   "id": "5b7e8c97",
   "metadata": {},
   "source": [
    "# KNN Regressor"
   ]
  },
  {
   "cell_type": "code",
   "execution_count": 1,
   "id": "77a79e0c",
   "metadata": {},
   "outputs": [
    {
     "name": "stdout",
     "output_type": "stream",
     "text": [
      "Mean Squared Error (MSE): 2737.246465469434\n",
      "R-squared (R²): 0.9959824106023589\n",
      "\n",
      "KNeighborsRegressor model used with 5 neighbors.\n",
      "\n",
      "Model saved as final_knn_regression_model.joblib\n"
     ]
    }
   ],
   "source": [
    "import pandas as pd\n",
    "from sklearn.neighbors import KNeighborsRegressor\n",
    "from sklearn.metrics import mean_squared_error, r2_score\n",
    "import joblib\n",
    "\n",
    "# Load the dataset\n",
    "data = pd.read_excel(\"sample_data.xlsx\")\n",
    "\n",
    "# Define the independent (X) and dependent (Y) variables\n",
    "X = data[['AD', 'E', 'T']]  # Independent variables: Advertising spend (AD), E, T\n",
    "Y = data['R']               # Dependent variable: Sales revenue\n",
    "\n",
    "# Initialize the KNeighborsRegressor model with n_neighbors (you can adjust this value)\n",
    "n_neighbors_value = 5  # You can adjust the number of neighbors\n",
    "model = KNeighborsRegressor(n_neighbors=n_neighbors_value)\n",
    "\n",
    "# Train the model on the entire dataset (no train-test split)\n",
    "model.fit(X, Y)\n",
    "\n",
    "# Make predictions on the same dataset (since we are not splitting)\n",
    "Y_pred = model.predict(X)\n",
    "\n",
    "# Evaluate the model\n",
    "mse = mean_squared_error(Y, Y_pred)\n",
    "r2 = r2_score(Y, Y_pred)\n",
    "\n",
    "# Report evaluation metrics\n",
    "print(\"Mean Squared Error (MSE):\", mse)\n",
    "print(\"R-squared (R²):\", r2)\n",
    "\n",
    "# KNN doesn't have coefficients like ElasticNet, so we only print evaluation metrics\n",
    "print(f\"\\nKNeighborsRegressor model used with {n_neighbors_value} neighbors.\")\n",
    "\n",
    "# Save the KNeighborsRegressor model to a file\n",
    "model_filename = 'final_knn_regression_model.joblib'\n",
    "joblib.dump(model, model_filename)\n",
    "\n",
    "print(f\"\\nModel saved as {model_filename}\")"
   ]
  },
  {
   "cell_type": "code",
   "execution_count": null,
   "id": "837512f2",
   "metadata": {},
   "outputs": [],
   "source": []
  }
 ],
 "metadata": {
  "kernelspec": {
   "display_name": "Python 3 (ipykernel)",
   "language": "python",
   "name": "python3"
  },
  "language_info": {
   "codemirror_mode": {
    "name": "ipython",
    "version": 3
   },
   "file_extension": ".py",
   "mimetype": "text/x-python",
   "name": "python",
   "nbconvert_exporter": "python",
   "pygments_lexer": "ipython3",
   "version": "3.10.9"
  },
  "toc": {
   "base_numbering": 1,
   "nav_menu": {},
   "number_sections": true,
   "sideBar": true,
   "skip_h1_title": false,
   "title_cell": "Table of Contents",
   "title_sidebar": "Contents",
   "toc_cell": false,
   "toc_position": {},
   "toc_section_display": true,
   "toc_window_display": false
  }
 },
 "nbformat": 4,
 "nbformat_minor": 5
}
