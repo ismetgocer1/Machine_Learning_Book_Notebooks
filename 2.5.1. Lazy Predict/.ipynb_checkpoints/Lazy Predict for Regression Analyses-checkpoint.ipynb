{
 "cells": [
  {
   "cell_type": "markdown",
   "id": "4a242ac1",
   "metadata": {},
   "source": [
    "# Lazy Predict for Regression Analyses\n",
    "\n",
    "* This code uses **Boston Housing dataset** from Python libraries.\n",
    "\n",
    "* You should load your data."
   ]
  },
  {
   "cell_type": "code",
   "execution_count": 1,
   "id": "d4cd4257",
   "metadata": {},
   "outputs": [
    {
     "name": "stderr",
     "output_type": "stream",
     "text": [
      "100%|██████████████████████████████████████████████████████████████████████████████████| 42/42 [02:02<00:00,  2.92s/it]"
     ]
    },
    {
     "name": "stdout",
     "output_type": "stream",
     "text": [
      "[LightGBM] [Info] Auto-choosing col-wise multi-threading, the overhead of testing was 0.000450 seconds.\n",
      "You can set `force_col_wise=true` to remove the overhead.\n",
      "[LightGBM] [Info] Total Bins 1838\n",
      "[LightGBM] [Info] Number of data points in the train set: 14448, number of used features: 8\n",
      "[LightGBM] [Info] Start training from score 2.069240\n",
      "                               Adjusted R-Squared  R-Squared  RMSE  Time Taken\n",
      "Model                                                                         \n",
      "LGBMRegressor                                0.84       0.84  0.46        0.12\n",
      "HistGradientBoostingRegressor                0.84       0.84  0.46        0.32\n",
      "XGBRegressor                                 0.84       0.84  0.46        0.66\n",
      "ExtraTreesRegressor                          0.81       0.81  0.50        2.81\n",
      "RandomForestRegressor                        0.80       0.80  0.51        9.61\n",
      "BaggingRegressor                             0.78       0.78  0.54        0.94\n",
      "GradientBoostingRegressor                    0.78       0.78  0.54        2.71\n",
      "MLPRegressor                                 0.78       0.78  0.54       11.54\n",
      "NuSVR                                        0.74       0.74  0.59        6.68\n",
      "SVR                                          0.73       0.73  0.59        7.16\n",
      "KNeighborsRegressor                          0.67       0.67  0.66        0.21\n",
      "SGDRegressor                                 0.60       0.60  0.72        0.02\n",
      "DecisionTreeRegressor                        0.60       0.60  0.73        0.17\n",
      "LassoCV                                      0.60       0.60  0.73        0.35\n",
      "ElasticNetCV                                 0.60       0.60  0.73        0.27\n",
      "LarsCV                                       0.60       0.60  0.73        0.03\n",
      "LassoLarsCV                                  0.60       0.60  0.73        0.04\n",
      "LassoLarsIC                                  0.60       0.60  0.73        0.02\n",
      "BayesianRidge                                0.60       0.60  0.73        0.02\n",
      "RidgeCV                                      0.60       0.60  0.73        0.02\n",
      "Ridge                                        0.60       0.60  0.73        0.02\n",
      "Lars                                         0.60       0.60  0.73        0.02\n",
      "TransformedTargetRegressor                   0.60       0.60  0.73        0.02\n",
      "LinearRegression                             0.60       0.60  0.73        0.00\n",
      "OrthogonalMatchingPursuitCV                  0.59       0.59  0.73        0.02\n",
      "HuberRegressor                               0.58       0.58  0.74        0.07\n",
      "LinearSVR                                    0.57       0.57  0.75        0.36\n",
      "ExtraTreeRegressor                           0.53       0.53  0.78        0.05\n",
      "AdaBoostRegressor                            0.48       0.48  0.83        0.54\n",
      "OrthogonalMatchingPursuit                    0.47       0.47  0.83        0.02\n",
      "PoissonRegressor                             0.45       0.45  0.85        0.02\n",
      "TweedieRegressor                             0.39       0.39  0.89        0.03\n",
      "GammaRegressor                               0.38       0.38  0.90        0.14\n",
      "ElasticNet                                   0.20       0.21  1.02        0.03\n",
      "RANSACRegressor                              0.16       0.16  1.05        0.13\n",
      "Lasso                                       -0.00      -0.00  1.15        0.00\n",
      "DummyRegressor                              -0.00      -0.00  1.15        0.00\n",
      "LassoLars                                   -0.00      -0.00  1.15        0.01\n",
      "QuantileRegressor                           -0.06      -0.06  1.18        3.93\n",
      "PassiveAggressiveRegressor                  -0.51      -0.51  1.41        0.02\n",
      "KernelRidge                                 -2.67      -2.66  2.19       22.02\n",
      "GaussianProcessRegressor                 -1737.29   -1735.04 47.73       51.49\n"
     ]
    },
    {
     "name": "stderr",
     "output_type": "stream",
     "text": [
      "\n"
     ]
    }
   ],
   "source": [
    "# Install Lazy Predict if not already installed\n",
    "# !pip install lazypredict\n",
    "\n",
    "# Import necessary libraries\n",
    "from lazypredict.Supervised import LazyRegressor\n",
    "from sklearn.model_selection import train_test_split\n",
    "from sklearn.datasets import fetch_california_housing\n",
    "from sklearn.preprocessing import StandardScaler\n",
    "\n",
    "# Load the California Housing dataset (replaces the deprecated Boston dataset)\n",
    "data = fetch_california_housing()\n",
    "X = data.data\n",
    "y = data.target\n",
    "\n",
    "# Optional: Scale the data\n",
    "scaler = StandardScaler()\n",
    "X = scaler.fit_transform(X)\n",
    "\n",
    "# Split the data into training and test sets\n",
    "X_train, X_test, y_train, y_test = train_test_split(X, y, test_size=0.3, random_state=42)\n",
    "\n",
    "# Initialize LazyRegressor\n",
    "reg = LazyRegressor(verbose=0, ignore_warnings=True, custom_metric=None)\n",
    "\n",
    "# Fit and evaluate models\n",
    "models, predictions = reg.fit(X_train, X_test, y_train, y_test)\n",
    "\n",
    "# Display the results\n",
    "print(models)"
   ]
  },
  {
   "cell_type": "code",
   "execution_count": null,
   "id": "4378059f",
   "metadata": {},
   "outputs": [],
   "source": []
  }
 ],
 "metadata": {
  "kernelspec": {
   "display_name": "Python 3 (ipykernel)",
   "language": "python",
   "name": "python3"
  },
  "language_info": {
   "codemirror_mode": {
    "name": "ipython",
    "version": 3
   },
   "file_extension": ".py",
   "mimetype": "text/x-python",
   "name": "python",
   "nbconvert_exporter": "python",
   "pygments_lexer": "ipython3",
   "version": "3.10.9"
  },
  "toc": {
   "base_numbering": 1,
   "nav_menu": {},
   "number_sections": true,
   "sideBar": true,
   "skip_h1_title": false,
   "title_cell": "Table of Contents",
   "title_sidebar": "Contents",
   "toc_cell": false,
   "toc_position": {},
   "toc_section_display": true,
   "toc_window_display": false
  }
 },
 "nbformat": 4,
 "nbformat_minor": 5
}
