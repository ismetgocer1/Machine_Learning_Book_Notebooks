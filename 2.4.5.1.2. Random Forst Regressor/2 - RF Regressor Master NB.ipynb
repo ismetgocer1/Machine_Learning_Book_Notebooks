{
 "cells": [
  {
   "cell_type": "markdown",
   "id": "533897b4",
   "metadata": {},
   "source": [
    "# Random Forest Regressor Pipeline"
   ]
  },
  {
   "cell_type": "markdown",
   "id": "24e5d503",
   "metadata": {},
   "source": [
    "This notebook demonstrates the use of a Random Forest Regressor on a dataset. We will preprocess the data, train the model, tune hyperparameters, and evaluate the results."
   ]
  },
  {
   "cell_type": "code",
   "execution_count": 1,
   "id": "2c072ff6",
   "metadata": {},
   "outputs": [],
   "source": [
    "import pandas as pd\n",
    "import numpy as np\n",
    "from sklearn.pipeline import Pipeline\n",
    "from sklearn.compose import ColumnTransformer\n",
    "from sklearn.impute import SimpleImputer\n",
    "from sklearn.preprocessing import OrdinalEncoder\n",
    "from sklearn.tree import DecisionTreeRegressor\n",
    "from sklearn.model_selection import train_test_split, GridSearchCV\n",
    "from sklearn.metrics import mean_squared_error, r2_score\n",
    "import joblib\n",
    "\n",
    "# Suppress warnings\n",
    "import warnings \n",
    "warnings.filterwarnings(\"ignore\")    "
   ]
  },
  {
   "cell_type": "markdown",
   "id": "6e70cae1",
   "metadata": {},
   "source": [
    "### 1. Load the Dataset"
   ]
  },
  {
   "cell_type": "code",
   "execution_count": 3,
   "id": "cefc8d75",
   "metadata": {},
   "outputs": [
    {
     "data": {
      "text/html": [
       "<div>\n",
       "<style scoped>\n",
       "    .dataframe tbody tr th:only-of-type {\n",
       "        vertical-align: middle;\n",
       "    }\n",
       "\n",
       "    .dataframe tbody tr th {\n",
       "        vertical-align: top;\n",
       "    }\n",
       "\n",
       "    .dataframe thead th {\n",
       "        text-align: right;\n",
       "    }\n",
       "</style>\n",
       "<table border=\"1\" class=\"dataframe\">\n",
       "  <thead>\n",
       "    <tr style=\"text-align: right;\">\n",
       "      <th></th>\n",
       "      <th>Target</th>\n",
       "      <th>Present_Price</th>\n",
       "      <th>Kms_Driven</th>\n",
       "      <th>Fuel_Type</th>\n",
       "      <th>Seller_Type</th>\n",
       "      <th>Transmission</th>\n",
       "      <th>Owner</th>\n",
       "    </tr>\n",
       "  </thead>\n",
       "  <tbody>\n",
       "    <tr>\n",
       "      <th>0</th>\n",
       "      <td>3.35</td>\n",
       "      <td>5.59</td>\n",
       "      <td>27000</td>\n",
       "      <td>Petrol</td>\n",
       "      <td>Dealer</td>\n",
       "      <td>Manual</td>\n",
       "      <td>0</td>\n",
       "    </tr>\n",
       "    <tr>\n",
       "      <th>1</th>\n",
       "      <td>4.75</td>\n",
       "      <td>9.54</td>\n",
       "      <td>43000</td>\n",
       "      <td>Diesel</td>\n",
       "      <td>Dealer</td>\n",
       "      <td>Manual</td>\n",
       "      <td>0</td>\n",
       "    </tr>\n",
       "  </tbody>\n",
       "</table>\n",
       "</div>"
      ],
      "text/plain": [
       "   Target  Present_Price  Kms_Driven Fuel_Type Seller_Type Transmission  Owner\n",
       "0    3.35           5.59       27000    Petrol      Dealer       Manual      0\n",
       "1    4.75           9.54       43000    Diesel      Dealer       Manual      0"
      ]
     },
     "execution_count": 3,
     "metadata": {},
     "output_type": "execute_result"
    }
   ],
   "source": [
    "# Load the dataset\n",
    "df = pd.read_excel('sample_data.xlsx')\n",
    "df.head(2)\n",
    "# Assume the target variable in the Excel file is named \"Target\"\n",
    "# Other variable names are not important here.    "
   ]
  },
  {
   "cell_type": "markdown",
   "id": "d92e918a",
   "metadata": {},
   "source": [
    "### 2. Separate Features and Target"
   ]
  },
  {
   "cell_type": "code",
   "execution_count": 3,
   "id": "fa3eb03d",
   "metadata": {},
   "outputs": [],
   "source": [
    "# Separate features and target variable from the dataset\n",
    "X = df.drop(columns=[\"Target\"])\n",
    "y = df[\"Target\"]\n",
    "\n",
    "# Separate numeric and categorical columns\n",
    "numeric_features = X.select_dtypes(include=['int64', 'float64']).columns\n",
    "categorical_features = X.select_dtypes(include=['object']).columns    "
   ]
  },
  {
   "cell_type": "markdown",
   "id": "c981a66b",
   "metadata": {},
   "source": [
    "### 3. Create Transformers for Data Preprocessing"
   ]
  },
  {
   "cell_type": "code",
   "execution_count": 4,
   "id": "1806be66",
   "metadata": {},
   "outputs": [],
   "source": [
    "# Create transformers for data preprocessing\n",
    "numeric_transformer = Pipeline(steps=[\n",
    "    ('imputer', SimpleImputer(strategy='mean'))])\n",
    "\n",
    "categorical_transformer = Pipeline(steps=[\n",
    "    ('imputer', SimpleImputer(strategy='most_frequent')),\n",
    "    ('encoder', OrdinalEncoder(handle_unknown='use_encoded_value', unknown_value=-1)) ])\n",
    "\n",
    "preprocessor = ColumnTransformer(\n",
    "    transformers=[\n",
    "        ('num', numeric_transformer, numeric_features),\n",
    "        ('cat', categorical_transformer, categorical_features)])    "
   ]
  },
  {
   "cell_type": "markdown",
   "id": "c9c76a3e",
   "metadata": {},
   "source": [
    "### 4. Create a Pipeline with a RandomForest Regressor"
   ]
  },
  {
   "cell_type": "code",
   "execution_count": 5,
   "id": "a16c2914",
   "metadata": {},
   "outputs": [],
   "source": [
    "# Create a pipeline with a RandomForest Regressor\n",
    "base_pipeline = Pipeline(steps=[\n",
    "    ('preprocessor', preprocessor),\n",
    "    ('regressor', RandomForestRegressor(random_state=42))\n",
    "])    "
   ]
  },
  {
   "cell_type": "markdown",
   "id": "adeecbe8",
   "metadata": {},
   "source": [
    "### 5. Perform a Train-Test Split"
   ]
  },
  {
   "cell_type": "code",
   "execution_count": 6,
   "id": "053d915c",
   "metadata": {},
   "outputs": [],
   "source": [
    "# Perform a train-test split\n",
    "X_train, X_test, y_train, y_test = train_test_split(X, y, test_size=0.2, random_state=42)    "
   ]
  },
  {
   "cell_type": "markdown",
   "id": "251e10a2",
   "metadata": {},
   "source": [
    "### 6. Train and Evaluate the Base Model"
   ]
  },
  {
   "cell_type": "code",
   "execution_count": 7,
   "id": "a1ed0682",
   "metadata": {},
   "outputs": [
    {
     "name": "stdout",
     "output_type": "stream",
     "text": [
      "Evaluation metrics for Train data:\n",
      "Mean Squared Error: 0.492054196165078\n",
      "R2 Score: 0.9813877089534043\n",
      "\n",
      "\n",
      "Evaluation metrics for Test data:\n",
      "Mean Squared Error: 1.7697670953627183\n",
      "R2 Score: 0.9231724684996003\n",
      "\n",
      "\n"
     ]
    }
   ],
   "source": [
    "# Train and evaluate the Base Model\n",
    "base_pipeline.fit(X_train, y_train)\n",
    "\n",
    "# Predictions and evaluation metrics\n",
    "y_train_pred = base_pipeline.predict(X_train)\n",
    "y_test_pred = base_pipeline.predict(X_test)\n",
    "\n",
    "def evaluate_model(y_true, y_pred, data_type=\"Train\"):\n",
    "    print(f\"Evaluation metrics for {data_type} data:\")\n",
    "    print(f\"Mean Squared Error: {mean_squared_error(y_true, y_pred)}\")\n",
    "    print(f\"R2 Score: {r2_score(y_true, y_pred)}\")\n",
    "    print(\"\\n\")\n",
    "\n",
    "evaluate_model(y_train, y_train_pred, \"Train\")\n",
    "evaluate_model(y_test, y_test_pred, \"Test\")    "
   ]
  },
  {
   "cell_type": "markdown",
   "id": "8a0987eb",
   "metadata": {},
   "source": [
    "### 7. Hyperparameter Tuning"
   ]
  },
  {
   "cell_type": "code",
   "execution_count": 8,
   "id": "97414698",
   "metadata": {},
   "outputs": [
    {
     "name": "stdout",
     "output_type": "stream",
     "text": [
      "Best Hyperparameters: {'regressor__max_depth': 10, 'regressor__max_features': 'sqrt', 'regressor__min_samples_leaf': 1, 'regressor__min_samples_split': 2, 'regressor__n_estimators': 128}\n"
     ]
    }
   ],
   "source": [
    "# Hyperparameter Tuning\n",
    "param_grid = {\n",
    "    'regressor__n_estimators': [50, 64, 100, 128, 200],\n",
    "    'regressor__max_depth': [None, 10, 20, 30],\n",
    "    'regressor__min_samples_split': [2, 5, 10],\n",
    "    'regressor__min_samples_leaf': [1, 2, 4],\n",
    "    'regressor__max_features': ['sqrt', 'log2']\n",
    "}\n",
    "\n",
    "grid_search = GridSearchCV(base_pipeline, param_grid, cv=5, n_jobs=-1, scoring='neg_mean_squared_error')\n",
    "grid_search.fit(X_train, y_train)\n",
    "\n",
    "print(f\"Best Hyperparameters: {grid_search.best_params_}\")    "
   ]
  },
  {
   "cell_type": "markdown",
   "id": "a53ca117",
   "metadata": {},
   "source": [
    "### 8. Build and Evaluate the Best Model"
   ]
  },
  {
   "cell_type": "code",
   "execution_count": 9,
   "id": "67b48a01",
   "metadata": {},
   "outputs": [
    {
     "name": "stdout",
     "output_type": "stream",
     "text": [
      "Evaluation metrics for Train (Best Model) data:\n",
      "Mean Squared Error: 0.7144567621407447\n",
      "R2 Score: 0.9679005255194238\n",
      "\n",
      "\n",
      "Evaluation metrics for Test (Best Model) data:\n",
      "Mean Squared Error: 2.4235434189003717\n",
      "R2 Score: 0.8653131960603034\n",
      "\n",
      "\n"
     ]
    }
   ],
   "source": [
    "\n",
    "# Build and evaluate the Best Model\n",
    "best_pipeline = grid_search.best_estimator_\n",
    "\n",
    "y_train_best_pred = best_pipeline.predict(X_train)\n",
    "y_test_best_pred = best_pipeline.predict(X_test)\n",
    "\n",
    "evaluate_model(y_train_best_pred, y_train, \"Train (Best Model)\")\n",
    "evaluate_model(y_test_best_pred, y_test, \"Test (Best Model)\")    "
   ]
  },
  {
   "cell_type": "markdown",
   "id": "42ce9a65",
   "metadata": {},
   "source": [
    "### 9. Train the Final Model on the Entire Dataset"
   ]
  },
  {
   "cell_type": "code",
   "execution_count": 10,
   "id": "f6e329bb",
   "metadata": {},
   "outputs": [],
   "source": [
    "# Train the Final Model on the entire dataset\n",
    "final_model = best_pipeline.fit(X, y)    "
   ]
  },
  {
   "cell_type": "markdown",
   "id": "8ceaa3a6",
   "metadata": {},
   "source": [
    "### 10. Save the Final Model"
   ]
  },
  {
   "cell_type": "code",
   "execution_count": 11,
   "id": "c6fb5049",
   "metadata": {},
   "outputs": [
    {
     "name": "stdout",
     "output_type": "stream",
     "text": [
      "Final model saved as 'final_model.pkl'\n"
     ]
    }
   ],
   "source": [
    "# Save the Final Model\n",
    "joblib.dump(final_model, 'final_model.pkl')\n",
    "\n",
    "print(\"Final model saved as 'final_model.pkl'\")    "
   ]
  },
  {
   "cell_type": "code",
   "execution_count": 12,
   "id": "6dbe621d",
   "metadata": {},
   "outputs": [],
   "source": [
    "# Done"
   ]
  }
 ],
 "metadata": {
  "kernelspec": {
   "display_name": "Python 3 (ipykernel)",
   "language": "python",
   "name": "python3"
  },
  "language_info": {
   "codemirror_mode": {
    "name": "ipython",
    "version": 3
   },
   "file_extension": ".py",
   "mimetype": "text/x-python",
   "name": "python",
   "nbconvert_exporter": "python",
   "pygments_lexer": "ipython3",
   "version": "3.10.9"
  },
  "toc": {
   "base_numbering": 1,
   "nav_menu": {},
   "number_sections": true,
   "sideBar": true,
   "skip_h1_title": false,
   "title_cell": "Table of Contents",
   "title_sidebar": "Contents",
   "toc_cell": false,
   "toc_position": {},
   "toc_section_display": true,
   "toc_window_display": false
  }
 },
 "nbformat": 4,
 "nbformat_minor": 5
}
